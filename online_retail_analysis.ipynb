{
 "cells": [
  {
   "cell_type": "markdown",
   "metadata": {
    "id": "cWbvdzPS9G4W"
   },
   "source": [
    "# **adding libraries to work and analyze**"
   ]
  },
  {
   "cell_type": "code",
   "execution_count": 1,
   "metadata": {
    "executionInfo": {
     "elapsed": 4,
     "status": "ok",
     "timestamp": 1753722746676,
     "user": {
      "displayName": "Mohamadreza Nikmaram",
      "userId": "12319564504656651406"
     },
     "user_tz": -210
    },
    "id": "XqcoRmZY7vGQ"
   },
   "outputs": [],
   "source": [
    "#libraries\n",
    "import pandas as pd\n",
    "import numpy as np\n",
    "import matplotlib.pyplot as plt\n",
    "import seaborn as sns"
   ]
  },
  {
   "cell_type": "markdown",
   "metadata": {
    "id": "iYkzfAbdBLXS"
   },
   "source": [
    "# **read data set with pandas and showing**\n",
    "read_file_by_extension function it recognizes file passive (csv)or(xlsx)\n"
   ]
  },
  {
   "cell_type": "code",
   "execution_count": 2,
   "metadata": {
    "colab": {
     "base_uri": "https://localhost:8080/",
     "height": 310
    },
    "executionInfo": {
     "elapsed": 1455,
     "status": "ok",
     "timestamp": 1753723913775,
     "user": {
      "displayName": "Mohamadreza Nikmaram",
      "userId": "12319564504656651406"
     },
     "user_tz": -210
    },
    "id": "X9Hw6X4mBKOP",
    "outputId": "cbaa43ea-aac4-4850-a61a-582342d24c00"
   },
   "outputs": [
    {
     "name": "stderr",
     "output_type": "stream",
     "text": [
      "<>:18: SyntaxWarning: invalid escape sequence '\\d'\n",
      "<>:18: SyntaxWarning: invalid escape sequence '\\d'\n",
      "C:\\Users\\Heram\\AppData\\Local\\Temp\\ipykernel_11040\\1565891135.py:18: SyntaxWarning: invalid escape sequence '\\d'\n",
      "  retail_df = read_file_by_extension('.\\dataset\\online_retail.csv')\n"
     ]
    },
    {
     "data": {
      "text/html": [
       "<div>\n",
       "<style scoped>\n",
       "    .dataframe tbody tr th:only-of-type {\n",
       "        vertical-align: middle;\n",
       "    }\n",
       "\n",
       "    .dataframe tbody tr th {\n",
       "        vertical-align: top;\n",
       "    }\n",
       "\n",
       "    .dataframe thead th {\n",
       "        text-align: right;\n",
       "    }\n",
       "</style>\n",
       "<table border=\"1\" class=\"dataframe\">\n",
       "  <thead>\n",
       "    <tr style=\"text-align: right;\">\n",
       "      <th></th>\n",
       "      <th>Unnamed: 0</th>\n",
       "      <th>InvoiceNo</th>\n",
       "      <th>StockCode</th>\n",
       "      <th>Description</th>\n",
       "      <th>Quantity</th>\n",
       "      <th>InvoiceDate</th>\n",
       "      <th>UnitPrice</th>\n",
       "      <th>CustomerID</th>\n",
       "      <th>Country</th>\n",
       "    </tr>\n",
       "  </thead>\n",
       "  <tbody>\n",
       "    <tr>\n",
       "      <th>78404</th>\n",
       "      <td>78404</td>\n",
       "      <td>542870</td>\n",
       "      <td>22379</td>\n",
       "      <td>RECYCLING BAG RETROSPOT</td>\n",
       "      <td>5</td>\n",
       "      <td>2011-02-01 12:29:00</td>\n",
       "      <td>2.10</td>\n",
       "      <td>15203.0</td>\n",
       "      <td>United Kingdom</td>\n",
       "    </tr>\n",
       "    <tr>\n",
       "      <th>496023</th>\n",
       "      <td>496023</td>\n",
       "      <td>578344</td>\n",
       "      <td>21865</td>\n",
       "      <td>PINK UNION JACK  PASSPORT COVER</td>\n",
       "      <td>1</td>\n",
       "      <td>2011-11-24 09:21:00</td>\n",
       "      <td>4.13</td>\n",
       "      <td>NaN</td>\n",
       "      <td>United Kingdom</td>\n",
       "    </tr>\n",
       "    <tr>\n",
       "      <th>335745</th>\n",
       "      <td>335745</td>\n",
       "      <td>566291</td>\n",
       "      <td>22921</td>\n",
       "      <td>HERB MARKER CHIVES</td>\n",
       "      <td>5</td>\n",
       "      <td>2011-09-11 15:31:00</td>\n",
       "      <td>0.65</td>\n",
       "      <td>12965.0</td>\n",
       "      <td>United Kingdom</td>\n",
       "    </tr>\n",
       "    <tr>\n",
       "      <th>176501</th>\n",
       "      <td>176501</td>\n",
       "      <td>552000</td>\n",
       "      <td>46776A</td>\n",
       "      <td>WOVEN BUBBLE GUM CUSHION COVER</td>\n",
       "      <td>3</td>\n",
       "      <td>2011-05-05 15:56:00</td>\n",
       "      <td>4.13</td>\n",
       "      <td>NaN</td>\n",
       "      <td>United Kingdom</td>\n",
       "    </tr>\n",
       "    <tr>\n",
       "      <th>456465</th>\n",
       "      <td>456465</td>\n",
       "      <td>575692</td>\n",
       "      <td>22970</td>\n",
       "      <td>LONDON BUS COFFEE MUG</td>\n",
       "      <td>3</td>\n",
       "      <td>2011-11-10 16:27:00</td>\n",
       "      <td>2.55</td>\n",
       "      <td>12508.0</td>\n",
       "      <td>France</td>\n",
       "    </tr>\n",
       "  </tbody>\n",
       "</table>\n",
       "</div>"
      ],
      "text/plain": [
       "        Unnamed: 0 InvoiceNo StockCode                       Description  \\\n",
       "78404        78404    542870     22379          RECYCLING BAG RETROSPOT    \n",
       "496023      496023    578344     21865  PINK UNION JACK  PASSPORT COVER    \n",
       "335745      335745    566291     22921               HERB MARKER CHIVES    \n",
       "176501      176501    552000    46776A    WOVEN BUBBLE GUM CUSHION COVER   \n",
       "456465      456465    575692     22970             LONDON BUS COFFEE MUG   \n",
       "\n",
       "        Quantity          InvoiceDate  UnitPrice  CustomerID         Country  \n",
       "78404          5  2011-02-01 12:29:00       2.10     15203.0  United Kingdom  \n",
       "496023         1  2011-11-24 09:21:00       4.13         NaN  United Kingdom  \n",
       "335745         5  2011-09-11 15:31:00       0.65     12965.0  United Kingdom  \n",
       "176501         3  2011-05-05 15:56:00       4.13         NaN  United Kingdom  \n",
       "456465         3  2011-11-10 16:27:00       2.55     12508.0          France  "
      ]
     },
     "execution_count": 2,
     "metadata": {},
     "output_type": "execute_result"
    }
   ],
   "source": [
    "#retail_df = pd.read_excel('/content/drive/MyDrive/online_retail/dataset/online_retail.xlsx')\n",
    "# retail_df = pd.read_csv('/content/drive/MyDrive/online_retail/dataset/online_retail.csv')\n",
    "import re\n",
    "\n",
    "def read_file_by_extension(filepath):\n",
    "  #recognizing with regex\n",
    "    if re.search(r'\\.csv$', filepath, re.IGNORECASE):\n",
    "        return pd.read_csv(filepath)\n",
    "    elif re.search(r'\\.xlsx?$', filepath, re.IGNORECASE):\n",
    "        df = pd.read_excel(filepath)\n",
    "        # after reading convert to csv\n",
    "        df = df.to_csv('/content/drive/MyDrive/online_retail/dataset/online_retail.csv')\n",
    "        return df\n",
    "\n",
    "    else:\n",
    "        raise ValueError(\"Unsupported file type. Only .csv and .xlsx files are supported.\")\n",
    "\n",
    "retail_df = read_file_by_extension('.\\dataset\\online_retail.csv')\n",
    "retail_df.head()\n",
    "retail_df.sample(5)"
   ]
  },
  {
   "cell_type": "markdown",
   "metadata": {
    "id": "Vs8WOfkPLWBr"
   },
   "source": [
    "# **convert to csv file and show**"
   ]
  },
  {
   "cell_type": "code",
   "execution_count": 3,
   "metadata": {
    "executionInfo": {
     "elapsed": 7,
     "status": "ok",
     "timestamp": 1753725664826,
     "user": {
      "displayName": "Mohamadreza Nikmaram",
      "userId": "12319564504656651406"
     },
     "user_tz": -210
    },
    "id": "DetnJFfxNFgZ"
   },
   "outputs": [],
   "source": [
    "#retail_df = retail_df.to_csv('/content/drive/MyDrive/online_retail/dataset/online_retail.csv')\n",
    "#retail_df = pd.read_csv('/content/drive/MyDrive/online_retail/dataset/online_retail.csv')\n",
    "# retail_df.head()"
   ]
  },
  {
   "cell_type": "markdown",
   "metadata": {
    "id": "gH9pZz8EOp6Z"
   },
   "source": [
    "# **some information of dataframe**"
   ]
  },
  {
   "cell_type": "code",
   "execution_count": 4,
   "metadata": {
    "colab": {
     "base_uri": "https://localhost:8080/"
    },
    "executionInfo": {
     "elapsed": 549,
     "status": "ok",
     "timestamp": 1753725687791,
     "user": {
      "displayName": "Mohamadreza Nikmaram",
      "userId": "12319564504656651406"
     },
     "user_tz": -210
    },
    "id": "KouFzLwAOpUt",
    "outputId": "735fd19e-112e-4214-dfb4-26994751aa62"
   },
   "outputs": [
    {
     "name": "stdout",
     "output_type": "stream",
     "text": [
      "<class 'pandas.core.frame.DataFrame'>\n",
      "RangeIndex: 541909 entries, 0 to 541908\n",
      "Data columns (total 9 columns):\n",
      " #   Column       Non-Null Count   Dtype  \n",
      "---  ------       --------------   -----  \n",
      " 0   Unnamed: 0   541909 non-null  int64  \n",
      " 1   InvoiceNo    541909 non-null  object \n",
      " 2   StockCode    541909 non-null  object \n",
      " 3   Description  540455 non-null  object \n",
      " 4   Quantity     541909 non-null  int64  \n",
      " 5   InvoiceDate  541909 non-null  object \n",
      " 6   UnitPrice    541909 non-null  float64\n",
      " 7   CustomerID   406829 non-null  float64\n",
      " 8   Country      541909 non-null  object \n",
      "dtypes: float64(2), int64(2), object(5)\n",
      "memory usage: 37.2+ MB\n",
      "\n",
      "\n",
      "describe : \n",
      "           Unnamed: 0       Quantity      UnitPrice     CustomerID\n",
      "count  541909.000000  541909.000000  541909.000000  406829.000000\n",
      "mean   270954.000000       9.552250       4.611114   15287.690570\n",
      "std    156435.797851     218.081158      96.759853    1713.600303\n",
      "min         0.000000  -80995.000000  -11062.060000   12346.000000\n",
      "25%    135477.000000       1.000000       1.250000   13953.000000\n",
      "50%    270954.000000       3.000000       2.080000   15152.000000\n",
      "75%    406431.000000      10.000000       4.130000   16791.000000\n",
      "max    541908.000000   80995.000000   38970.000000   18287.000000\n",
      "size of column Unnamed: 0 :541909\n",
      "size of column InvoiceNo :541909\n",
      "size of column StockCode :541909\n",
      "size of column Description :541909\n",
      "size of column Quantity :541909\n",
      "size of column InvoiceDate :541909\n",
      "size of column UnitPrice :541909\n",
      "size of column CustomerID :541909\n",
      "size of column Country :541909\n"
     ]
    }
   ],
   "source": [
    "retail_df.info()\n",
    "print(\"\\n\\ndescribe : \\n\",retail_df.describe())\n",
    "\n",
    "#another way for showing size of each columns\n",
    "for i in retail_df.columns:\n",
    "  print(f\"size of column {i} :{retail_df[i].size}\")"
   ]
  },
  {
   "cell_type": "markdown",
   "metadata": {
    "id": "VBpNC3TVea6v"
   },
   "source": [
    "# **shape and dimension**"
   ]
  },
  {
   "cell_type": "code",
   "execution_count": 5,
   "metadata": {
    "colab": {
     "base_uri": "https://localhost:8080/"
    },
    "executionInfo": {
     "elapsed": 58,
     "status": "ok",
     "timestamp": 1753725692870,
     "user": {
      "displayName": "Mohamadreza Nikmaram",
      "userId": "12319564504656651406"
     },
     "user_tz": -210
    },
    "id": "egj5qxbElXTx",
    "outputId": "c861ccde-6e45-4942-9206-2f3d1c4830da"
   },
   "outputs": [
    {
     "name": "stdout",
     "output_type": "stream",
     "text": [
      "shape:  (541909, 9)\n",
      "dimension:  2\n"
     ]
    }
   ],
   "source": [
    "print(\"shape: \",retail_df.shape)\n",
    "print(\"dimension: \",retail_df.ndim)"
   ]
  },
  {
   "cell_type": "markdown",
   "metadata": {
    "id": "nN6LmdDP6eAP"
   },
   "source": [
    "# **start** and end index"
   ]
  },
  {
   "cell_type": "code",
   "execution_count": 6,
   "metadata": {
    "colab": {
     "base_uri": "https://localhost:8080/"
    },
    "executionInfo": {
     "elapsed": 32,
     "status": "ok",
     "timestamp": 1753725694350,
     "user": {
      "displayName": "Mohamadreza Nikmaram",
      "userId": "12319564504656651406"
     },
     "user_tz": -210
    },
    "id": "YvE6arHR6eab",
    "outputId": "b1b4443e-6166-4d44-c717-0cbf5bfc7ad4"
   },
   "outputs": [
    {
     "data": {
      "text/plain": [
       "RangeIndex(start=0, stop=541909, step=1)"
      ]
     },
     "execution_count": 6,
     "metadata": {},
     "output_type": "execute_result"
    }
   ],
   "source": [
    "retail_df.index"
   ]
  },
  {
   "cell_type": "markdown",
   "metadata": {
    "id": "oi1wq8Qpmf7z"
   },
   "source": [
    "# **number of null datas (nan data)**"
   ]
  },
  {
   "cell_type": "code",
   "execution_count": 7,
   "metadata": {
    "colab": {
     "base_uri": "https://localhost:8080/",
     "height": 366
    },
    "executionInfo": {
     "elapsed": 250,
     "status": "ok",
     "timestamp": 1753726283362,
     "user": {
      "displayName": "Mohamadreza Nikmaram",
      "userId": "12319564504656651406"
     },
     "user_tz": -210
    },
    "id": "BBfuhtbFebYX",
    "outputId": "f503a5fd-f7f3-4a45-9c05-7ee73c0eedd0"
   },
   "outputs": [
    {
     "data": {
      "text/plain": [
       "Unnamed: 0          0\n",
       "InvoiceNo           0\n",
       "StockCode           0\n",
       "Description      1454\n",
       "Quantity            0\n",
       "InvoiceDate         0\n",
       "UnitPrice           0\n",
       "CustomerID     135080\n",
       "Country             0\n",
       "dtype: int64"
      ]
     },
     "execution_count": 7,
     "metadata": {},
     "output_type": "execute_result"
    }
   ],
   "source": [
    "#retail_df.isnull()\n",
    "retail_df.isna()\n",
    "#retail_df.isna().sum()\n",
    "retail_df.isnull().sum()"
   ]
  },
  {
   "cell_type": "markdown",
   "metadata": {
    "id": "Bap7u2FvrjTN"
   },
   "source": [
    "# **define columns and their type**"
   ]
  },
  {
   "cell_type": "code",
   "execution_count": 8,
   "metadata": {
    "colab": {
     "base_uri": "https://localhost:8080/"
    },
    "executionInfo": {
     "elapsed": 998,
     "status": "ok",
     "timestamp": 1753725945202,
     "user": {
      "displayName": "Mohamadreza Nikmaram",
      "userId": "12319564504656651406"
     },
     "user_tz": -210
    },
    "id": "w1yXBAjtnAwL",
    "outputId": "64bad07c-b934-4155-b93e-8eae31035e97"
   },
   "outputs": [
    {
     "name": "stdout",
     "output_type": "stream",
     "text": [
      "df columns is : Index(['Unnamed: 0', 'InvoiceNo', 'StockCode', 'Description', 'Quantity',\n",
      "       'InvoiceDate', 'UnitPrice', 'CustomerID', 'Country'],\n",
      "      dtype='object')\n",
      "\n",
      "\n",
      "method dtypes \n",
      " Unnamed: 0       int64\n",
      "InvoiceNo       object\n",
      "StockCode       object\n",
      "Description     object\n",
      "Quantity         int64\n",
      "InvoiceDate     object\n",
      "UnitPrice      float64\n",
      "CustomerID     float64\n",
      "Country         object\n",
      "dtype: object \n",
      "\n",
      "\n",
      "another way  \n",
      "\n",
      "type columns {'Unnamed: 0'} is : Unnamed: 0\n",
      "<class 'int'>    541909\n",
      "Name: count, dtype: int64\n",
      "type columns {'InvoiceNo'} is : InvoiceNo\n",
      "<class 'str'>    541909\n",
      "Name: count, dtype: int64\n",
      "type columns {'StockCode'} is : StockCode\n",
      "<class 'str'>    541909\n",
      "Name: count, dtype: int64\n",
      "type columns {'Description'} is : Description\n",
      "<class 'str'>      540455\n",
      "<class 'float'>      1454\n",
      "Name: count, dtype: int64\n",
      "type columns {'Quantity'} is : Quantity\n",
      "<class 'int'>    541909\n",
      "Name: count, dtype: int64\n",
      "type columns {'InvoiceDate'} is : InvoiceDate\n",
      "<class 'str'>    541909\n",
      "Name: count, dtype: int64\n",
      "type columns {'UnitPrice'} is : UnitPrice\n",
      "<class 'float'>    541909\n",
      "Name: count, dtype: int64\n",
      "type columns {'CustomerID'} is : CustomerID\n",
      "<class 'float'>    541909\n",
      "Name: count, dtype: int64\n",
      "type columns {'Country'} is : Country\n",
      "<class 'str'>    541909\n",
      "Name: count, dtype: int64\n"
     ]
    }
   ],
   "source": [
    "type(retail_df)\n",
    "Columns = retail_df.columns\n",
    "print(f\"df columns is : {Columns}\\n\\n\")\n",
    "\n",
    "print (\"method dtypes \\n\",retail_df.dtypes,\"\\n\\n\")\n",
    "\n",
    "#a way for define columns type\n",
    "print(\"another way  \\n\")\n",
    "for i in Columns:\n",
    "  print(f\"type columns { {i} } is : {retail_df[i].apply(type).value_counts()}\")\n",
    "\n"
   ]
  },
  {
   "cell_type": "markdown",
   "metadata": {
    "id": "rP7bgxV0aZ9E"
   },
   "source": [
    "# **convert pandas dataframe to numpy**"
   ]
  },
  {
   "cell_type": "code",
   "execution_count": 9,
   "metadata": {
    "colab": {
     "base_uri": "https://localhost:8080/"
    },
    "executionInfo": {
     "elapsed": 114,
     "status": "ok",
     "timestamp": 1753726231484,
     "user": {
      "displayName": "Mohamadreza Nikmaram",
      "userId": "12319564504656651406"
     },
     "user_tz": -210
    },
    "id": "WkNsns2xaikX",
    "outputId": "2c9edd0b-c77f-493c-e8f8-4e191a39ece1"
   },
   "outputs": [
    {
     "name": "stdout",
     "output_type": "stream",
     "text": [
      "[[0 '536365' '85123A' ... 2.55 17850.0 'United Kingdom']\n",
      " [1 '536365' '71053' ... 3.39 17850.0 'United Kingdom']\n",
      " [2 '536365' '84406B' ... 2.75 17850.0 'United Kingdom']\n",
      " ...\n",
      " [541906 '581587' '23254' ... 4.15 12680.0 'France']\n",
      " [541907 '581587' '23255' ... 4.15 12680.0 'France']\n",
      " [541908 '581587' '22138' ... 4.95 12680.0 'France']] \n",
      "\n",
      "type: object\n"
     ]
    }
   ],
   "source": [
    "arr = retail_df.to_numpy()\n",
    "print(arr,\"\\n\")\n",
    "\n",
    "print(\"type:\",arr.dtype)\n",
    "\n"
   ]
  },
  {
   "cell_type": "code",
   "execution_count": 10,
   "metadata": {
    "colab": {
     "base_uri": "https://localhost:8080/"
    },
    "executionInfo": {
     "elapsed": 55,
     "status": "ok",
     "timestamp": 1753726297639,
     "user": {
      "displayName": "Mohamadreza Nikmaram",
      "userId": "12319564504656651406"
     },
     "user_tz": -210
    },
    "id": "KXpWHx1nPzEQ",
    "outputId": "ffd49842-8d71-4c6e-e9a0-14a524b5794f"
   },
   "outputs": [
    {
     "data": {
      "text/plain": [
       "4877181"
      ]
     },
     "execution_count": 10,
     "metadata": {},
     "output_type": "execute_result"
    }
   ],
   "source": [
    "retail_df.size"
   ]
  },
  {
   "cell_type": "markdown",
   "metadata": {
    "id": "lmlApY4c7AMe"
   },
   "source": [
    "# **ratio of nan data to total data**\n",
    "we have 2 nullable columns (CustomerID) and (Description)"
   ]
  },
  {
   "cell_type": "code",
   "execution_count": 11,
   "metadata": {
    "colab": {
     "base_uri": "https://localhost:8080/"
    },
    "executionInfo": {
     "elapsed": 51,
     "status": "ok",
     "timestamp": 1753728693387,
     "user": {
      "displayName": "Mohamadreza Nikmaram",
      "userId": "12319564504656651406"
     },
     "user_tz": -210
    },
    "id": "IOkadyS26_Mv",
    "outputId": "d7faa39c-3da7-47f2-b421-0b1f5692065b"
   },
   "outputs": [
    {
     "name": "stdout",
     "output_type": "stream",
     "text": [
      "first size =  4877181\n",
      "ratio =  2.7696327038098443\n",
      "drop is done\n",
      "second size =  3661461\n"
     ]
    }
   ],
   "source": [
    "#computing the ratio\n",
    "#delete null data for customerid because is more important\n",
    "print(\"first size = \",retail_df.size)\n",
    "ratio = ((retail_df['CustomerID'].isna().sum()) / (retail_df.size)) * 100\n",
    "print(\"ratio = \", ratio)\n",
    "if ratio <= 3 :\n",
    "  #ratio was less than 3% delete null data because not import and not effective\n",
    "  retail_df.dropna(subset=[\"CustomerID\"] ,inplace=True)\n",
    "  print(\"drop is done\")\n",
    "else:\n",
    "  #ratio was greater than 3% fill nul data with a spesifict number all of them\n",
    "  retail_df.fillna((retail_df.size + 1),inplace=True )\n",
    "  print(\"filling is done\")\n",
    "\n",
    "print(\"second size = \",retail_df.size)\n"
   ]
  },
  {
   "cell_type": "markdown",
   "metadata": {
    "id": "wLPWFimLaHgk"
   },
   "source": [
    "# **check number of null data**"
   ]
  },
  {
   "cell_type": "code",
   "execution_count": 12,
   "metadata": {
    "colab": {
     "base_uri": "https://localhost:8080/",
     "height": 366
    },
    "executionInfo": {
     "elapsed": 144,
     "status": "ok",
     "timestamp": 1753729349436,
     "user": {
      "displayName": "Mohamadreza Nikmaram",
      "userId": "12319564504656651406"
     },
     "user_tz": -210
    },
    "id": "jc5YN59MaH8M",
    "outputId": "e6b61a41-862a-40b3-a909-252515b3cbf2"
   },
   "outputs": [
    {
     "data": {
      "text/plain": [
       "Unnamed: 0     0\n",
       "InvoiceNo      0\n",
       "StockCode      0\n",
       "Description    0\n",
       "Quantity       0\n",
       "InvoiceDate    0\n",
       "UnitPrice      0\n",
       "CustomerID     0\n",
       "Country        0\n",
       "dtype: int64"
      ]
     },
     "execution_count": 12,
     "metadata": {},
     "output_type": "execute_result"
    }
   ],
   "source": [
    "retail_df.isna().sum()"
   ]
  },
  {
   "cell_type": "markdown",
   "metadata": {
    "id": "40olbO4vYFTj"
   },
   "source": [
    "# **convert type column CustomerID to int64 and InvoiceDate column to real date type and invoiceno to str**"
   ]
  },
  {
   "cell_type": "code",
   "execution_count": 13,
   "metadata": {
    "colab": {
     "base_uri": "https://localhost:8080/"
    },
    "executionInfo": {
     "elapsed": 63,
     "status": "ok",
     "timestamp": 1753738224703,
     "user": {
      "displayName": "Mohamadreza Nikmaram",
      "userId": "12319564504656651406"
     },
     "user_tz": -210
    },
    "id": "9qqDVaoQYFt2",
    "outputId": "f9a1ad5c-7354-44d9-bb13-4798e8669e08"
   },
   "outputs": [
    {
     "name": "stdout",
     "output_type": "stream",
     "text": [
      "0         17850\n",
      "1         17850\n",
      "2         17850\n",
      "3         17850\n",
      "4         17850\n",
      "          ...  \n",
      "541904    12680\n",
      "541905    12680\n",
      "541906    12680\n",
      "541907    12680\n",
      "541908    12680\n",
      "Name: CustomerID, Length: 406829, dtype: Int64\n"
     ]
    }
   ],
   "source": [
    "retail_df['CustomerID'] = retail_df['CustomerID'].astype('Int64')\n",
    "\n",
    "retail_df['InvoiceDate'] = pd.to_datetime(retail_df['InvoiceDate'],errors='coerce')\n",
    "\n",
    "retail_df[\"InvoiceNo\"] = retail_df[\"InvoiceNo\"].astype(str)\n",
    "\n",
    "print(retail_df['CustomerID'])"
   ]
  },
  {
   "cell_type": "markdown",
   "metadata": {
    "id": "DUjnmsaidoiN"
   },
   "source": [
    "# **reset number of indexes**"
   ]
  },
  {
   "cell_type": "code",
   "execution_count": 14,
   "metadata": {
    "colab": {
     "base_uri": "https://localhost:8080/"
    },
    "executionInfo": {
     "elapsed": 81,
     "status": "ok",
     "timestamp": 1753730261643,
     "user": {
      "displayName": "Mohamadreza Nikmaram",
      "userId": "12319564504656651406"
     },
     "user_tz": -210
    },
    "id": "6kXoJHZ9apKm",
    "outputId": "c027193c-798f-4c06-c9d0-6848c222eaf1"
   },
   "outputs": [
    {
     "name": "stdout",
     "output_type": "stream",
     "text": [
      "first index list =  Index([     0,      1,      2,      3,      4,      5,      6,      7,      8,\n",
      "            9,\n",
      "       ...\n",
      "       541899, 541900, 541901, 541902, 541903, 541904, 541905, 541906, 541907,\n",
      "       541908],\n",
      "      dtype='int64', length=406829)\n",
      "\n",
      "\n",
      "second index list =  RangeIndex(start=0, stop=406829, step=1)\n"
     ]
    }
   ],
   "source": [
    "print(\"first index list = \", retail_df.index)\n",
    "retail_df.reset_index(drop=True, inplace=True)\n",
    "print(\"\\n\\nsecond index list = \", retail_df.index)"
   ]
  },
  {
   "cell_type": "markdown",
   "metadata": {
    "id": "9pS3XVzMeGfx"
   },
   "source": [
    "# **show duplicate rows**"
   ]
  },
  {
   "cell_type": "code",
   "execution_count": 15,
   "metadata": {
    "colab": {
     "base_uri": "https://localhost:8080/"
    },
    "executionInfo": {
     "elapsed": 692,
     "status": "ok",
     "timestamp": 1753737466825,
     "user": {
      "displayName": "Mohamadreza Nikmaram",
      "userId": "12319564504656651406"
     },
     "user_tz": -210
    },
    "id": "lQZmytpfeG2k",
    "outputId": "cf2a72da-27ba-4be6-81af-d549d3c8ac5d"
   },
   "outputs": [
    {
     "data": {
      "text/plain": [
       "np.int64(0)"
      ]
     },
     "execution_count": 15,
     "metadata": {},
     "output_type": "execute_result"
    }
   ],
   "source": [
    "retail_df.duplicated()\n",
    "retail_df.duplicated().sum()"
   ]
  },
  {
   "cell_type": "markdown",
   "metadata": {
    "id": "RT_Tgq3D6Z84"
   },
   "source": [
    "# **delete unname:0 columns because is not usefull**"
   ]
  },
  {
   "cell_type": "code",
   "execution_count": 16,
   "metadata": {
    "colab": {
     "base_uri": "https://localhost:8080/",
     "height": 321
    },
    "collapsed": true,
    "executionInfo": {
     "elapsed": 57,
     "status": "error",
     "timestamp": 1753738231664,
     "user": {
      "displayName": "Mohamadreza Nikmaram",
      "userId": "12319564504656651406"
     },
     "user_tz": -210
    },
    "id": "7T7nH0n06aTk",
    "outputId": "6e167de8-9f47-4031-f4dc-21afad55aa48"
   },
   "outputs": [],
   "source": [
    "retail_df.drop(columns=[\"Unnamed: 0\"], inplace=True)\n",
    "#or we can change it to a index\n",
    "#retail_df = retail_df.index"
   ]
  },
  {
   "cell_type": "markdown",
   "metadata": {},
   "source": [
    "# **checking wrong type**\n",
    "validating type\n"
   ]
  },
  {
   "cell_type": "code",
   "execution_count": 17,
   "metadata": {},
   "outputs": [
    {
     "name": "stdout",
     "output_type": "stream",
     "text": [
      "invalid data type for columns Quantity = 0\n",
      "invalid data type for columns Country = 0\n",
      "invalid data type for columns CustomerID = 0\n",
      "invalid data type for columns Description = 0\n",
      "invalid data type for columns InvoiceDate = Empty DataFrame\n",
      "Columns: [InvoiceNo, StockCode, Description, Quantity, InvoiceDate, UnitPrice, CustomerID, Country]\n",
      "Index: []\n",
      "invalid data type for columns InvoiceNo = 0\n",
      "invalid data type for columns StockCode = 0\n",
      "invalid data type for columns UnitPrice = 0\n"
     ]
    }
   ],
   "source": [
    "#check column Quantity type (sum of them)\n",
    "#retail_df[~retail_df['Quantity'].apply(lambda x: isinstance(x, (int)))].sum\n",
    "print(\"invalid data type for columns Quantity =\",(~retail_df['Quantity'].apply(lambda x: isinstance(x, (int)))).sum())\n",
    "\n",
    "#show indexes the rows of quantity column that wrong type\n",
    "#retail_df.loc[~retail_df['Quantity'].apply(lambda x: isinstance(x, (int))), 'Quantity']\n",
    "\n",
    "\n",
    "#check column Country type (sum of them)\n",
    "print(\"invalid data type for columns Country =\",(~retail_df[\"Country\"].apply(lambda x: isinstance(x, (str)))).sum())\n",
    "\n",
    "#check column CustomerID type (sum of them)\n",
    "print(\"invalid data type for columns CustomerID =\",(~retail_df['CustomerID'].apply(lambda x: isinstance(x, (int)))).sum()\n",
    "      )\n",
    "#check column Description type (sum of them)\n",
    "print(\"invalid data type for columns Description =\",(~retail_df['Description'].apply(lambda x: isinstance(x, (str)))).sum())\n",
    "\n",
    "#check column InvoiceDate type (sum of them)\n",
    "print(\"invalid data type for columns InvoiceDate =\",retail_df[retail_df['InvoiceDate'].isnull()])\n",
    "\n",
    "#check column InvoiceNo type (sum of them)\n",
    "print(\"invalid data type for columns InvoiceNo =\",(~retail_df['InvoiceNo'].apply(lambda x: isinstance(x, (str)))).sum())\n",
    "\n",
    "#check column StockCode type (sum of them)\n",
    "print(\"invalid data type for columns StockCode =\",(~retail_df['StockCode'].apply(lambda x: isinstance(x, (str)))).sum())\n",
    "\n",
    "#check column UnitPrice type (sum of them)\n",
    "print(\"invalid data type for columns UnitPrice =\",(~retail_df['UnitPrice'].apply(lambda x: isinstance(x, (float , int)))).sum())"
   ]
  },
  {
   "cell_type": "markdown",
   "metadata": {},
   "source": [
    "# **checking Valid range of values**"
   ]
  },
  {
   "cell_type": "code",
   "execution_count": 33,
   "metadata": {},
   "outputs": [
    {
     "name": "stdout",
     "output_type": "stream",
     "text": [
      "total quantity column size = 406829 \n",
      " number of invalid range = 0          6.0\n",
      "1          6.0\n",
      "2          8.0\n",
      "3          6.0\n",
      "4          6.0\n",
      "          ... \n",
      "406824    12.0\n",
      "406825     6.0\n",
      "406826     4.0\n",
      "406827     4.0\n",
      "406828     3.0\n",
      "Name: Quantity, Length: 406829, dtype: float64\n",
      "\n",
      "\n",
      "\n",
      "total CustomerID column size = 406829 \n",
      " number of invalid range = 0\n",
      "\n",
      "\n",
      "\n",
      "Total UnitPrice column size = 406829 \n",
      " number of invalid range = 40 \n",
      "\n",
      "UnitPrice invalid values = Index([  7012,  23071,  26046,  29881,  29883,  35460,  55279,  87903,  95201,\n",
      "        99945, 109968, 131865, 140517, 199499, 202073, 204627, 214132, 229359,\n",
      "       229360, 229361, 229362, 262429, 265590, 280386, 293578, 314491, 327463,\n",
      "       327630, 327992, 329894, 336106, 336738, 336739, 342114, 342115, 360854,\n",
      "       361225, 362308, 366848, 378894],\n",
      "      dtype='int64')\n",
      "\n",
      "\n",
      "\n",
      "total InvoiceDate column size = 406789 \n",
      " number of invalid range = 0        NaT\n",
      "1        NaT\n",
      "2        NaT\n",
      "3        NaT\n",
      "4        NaT\n",
      "          ..\n",
      "406824   NaT\n",
      "406825   NaT\n",
      "406826   NaT\n",
      "406827   NaT\n",
      "406828   NaT\n",
      "Name: InvoiceDate, Length: 406789, dtype: datetime64[ns]\n"
     ]
    }
   ],
   "source": [
    "#quantity Columns\n",
    "print(\"total quantity column size =\",retail_df['Quantity'].size,\"\\n number of invalid range =\",invalid_Quantity_rows := retail_df[\"Quantity\"].where(lambda x: (x > 0) & (x < 1000)))\n",
    "print(\"\\n\\n\")\n",
    "\n",
    "#CustomerID Columns\n",
    "print(\"total CustomerID column size =\",retail_df['CustomerID'].size,\"\\n number of invalid range =\",invalid_CustomerID_rows :=(~retail_df[\"CustomerID\"].between(10000, 20000)).sum())\n",
    "print(\"\\n\\n\")\n",
    "\n",
    "#UnitPrice Columns\n",
    "print(\"Total UnitPrice column size =\", retail_df['UnitPrice'].size ,\"\\n number of invalid range =\" , invalid_unitprice_rows := retail_df[\"UnitPrice\"].where(lambda x: x <= 0.0).count(),\"\\n\")\n",
    "#show index of invalid values\n",
    "print(\"UnitPrice invalid values =\",retail_df.loc[retail_df[\"UnitPrice\"] <= 0.0].index) \n",
    "#deleting invalid values\n",
    "retail_df.drop(retail_df[retail_df[\"UnitPrice\"] <= 0.0].index,inplace=True)\n",
    "print(\"\\n\\n\")\n",
    "\n",
    "#InvoceDate Columns\n",
    "print(\"total InvoiceDate column size =\",retail_df['InvoiceDate'].size,\"\\n number of invalid range =\",retail_df['InvoiceDate'].where((retail_df['InvoiceDate'] < '2009-01-01') | (retail_df['InvoiceDate'] > '2020-01-01') ))"
   ]
  },
  {
   "cell_type": "markdown",
   "metadata": {},
   "source": [
    "# **statistic**"
   ]
  },
  {
   "cell_type": "markdown",
   "metadata": {},
   "source": [
    "# import library  and new column"
   ]
  },
  {
   "cell_type": "code",
   "execution_count": 37,
   "metadata": {},
   "outputs": [
    {
     "data": {
      "text/plain": [
       "0         15.30\n",
       "1         20.34\n",
       "2         22.00\n",
       "3         20.34\n",
       "4         20.34\n",
       "          ...  \n",
       "406824    10.20\n",
       "406825    12.60\n",
       "406826    16.60\n",
       "406827    16.60\n",
       "406828    14.85\n",
       "Name: totalprice, Length: 406789, dtype: float64"
      ]
     },
     "execution_count": 37,
     "metadata": {},
     "output_type": "execute_result"
    }
   ],
   "source": [
    "import scipy.stats as st\n",
    "retail_df['totalprice'] = retail_df['UnitPrice'] * retail_df['Quantity']\n",
    "retail_df['totalprice']"
   ]
  },
  {
   "cell_type": "markdown",
   "metadata": {},
   "source": [
    "# **show stats**"
   ]
  },
  {
   "cell_type": "code",
   "execution_count": 47,
   "metadata": {},
   "outputs": [
    {
     "name": "stdout",
     "output_type": "stream",
     "text": [
      "\n",
      "-------- Stats for 'Quantity'-------\n",
      "Count: 406789\n",
      "Mean : 12.028358682265253\n",
      "sum : 4893004\n",
      "Median : 5.0\n",
      "Min : -80995\n",
      "Max : 80995\n",
      "Std : 247.92784247106596\n",
      "Variance : 61468.2150723577\n",
      "Skewness : -0.13240195664588153\n",
      "Kurtosis : 95481.26849650472\n",
      "Q1 (25%) : 2.0\n",
      "Q3 (75%) : 12.0\n",
      "IQR =  -10.0\n"
     ]
    }
   ],
   "source": [
    "def show_stats(column_name):\n",
    "    print(f\"\\n-------- Stats for '{column_name}'-------\")\n",
    "    print(\"Count:\", retail_df[column_name].count())\n",
    "    print(\"Mean :\", retail_df[column_name].mean())\n",
    "    print(\"sum :\", retail_df[column_name].sum())\n",
    "    print(\"Median :\", retail_df[column_name].median())\n",
    "    print(\"Min :\", retail_df[column_name].min())\n",
    "    print(\"Max :\", retail_df[column_name].max())\n",
    "    print(\"Std :\", retail_df[column_name].std())\n",
    "    print(\"Variance :\", retail_df[column_name].var())\n",
    "    print(\"Skewness :\", retail_df[column_name].skew())\n",
    "    print(\"Kurtosis :\", retail_df[column_name].kurtosis())\n",
    "    print(\"Q1 (25%) :\", retail_df[column_name].quantile(0.25))\n",
    "    print(\"Q3 (75%) :\", retail_df[column_name].quantile(0.75))\n",
    "    print('IQR = ',retail_df[column_name].quantile(0.25) - retail_df[column_name].quantile(0.75))\n",
    "show_stats('Quantity')"
   ]
  },
  {
   "cell_type": "markdown",
   "metadata": {},
   "source": [
    "# **IQR**"
   ]
  },
  {
   "cell_type": "code",
   "execution_count": 55,
   "metadata": {},
   "outputs": [
    {
     "data": {
      "image/png": "[encoded data removed]",
      "text/plain": [
       "<Figure size 500x500 with 1 Axes>"
      ]
     },
     "metadata": {},
     "output_type": "display_data"
    }
   ],
   "source": [
    "import matplotlib.pyplot as plt\n",
    "import seaborn as sns\n",
    "\n",
    "#get column name \n",
    "def show_iqr(column_name):\n",
    "    plt.figure(figsize=(5,5))\n",
    "    sns.boxplot(x=retail_df[column_name])\n",
    "    plt.title(f\"Boxplot of {column_name} \")\n",
    "    plt.xlabel(column_name)\n",
    "    plt.grid(True)\n",
    "    plt.show()\n",
    "\n",
    "show_iqr('UnitPrice')"
   ]
  },
  {
   "cell_type": "markdown",
   "metadata": {},
   "source": [
    "# **Skewness**"
   ]
  },
  {
   "cell_type": "code",
   "execution_count": null,
   "metadata": {},
   "outputs": [
    {
     "data": {
      "image/png": "[encoded data removed]",
      "text/plain": [
       "<Figure size 800x500 with 1 Axes>"
      ]
     },
     "metadata": {},
     "output_type": "display_data"
    }
   ],
   "source": [
    "#get column name \n",
    "def show_skewness(column_name):\n",
    "    plt.figure(figsize=(8, 5))\n",
    "    sns.histplot(retail_df[column_name], kde=True, bins=50, color=\"skyblue\")\n",
    "    plt.title(f\"Distribution and Skewness of {column_name}\")\n",
    "    plt.xlabel(column_name)\n",
    "    plt.grid(True)\n",
    "    plt.show()\n",
    "\n",
    "show_skewness('Quantity')\n"
   ]
  },
  {
   "cell_type": "code",
   "execution_count": 54,
   "metadata": {},
   "outputs": [
    {
     "data": {
      "text/plain": [
       "<Axes: xlabel='Quantity', ylabel='Count'>"
      ]
     },
     "execution_count": 54,
     "metadata": {},
     "output_type": "execute_result"
    },
    {
     "data": {
      "image/png": "[encoded data removed]",
      "text/plain": [
       "<Figure size 640x480 with 1 Axes>"
      ]
     },
     "metadata": {},
     "output_type": "display_data"
    }
   ],
   "source": [
    "import seaborn as sns\n",
    "sns.histplot(retail_df[\"Quantity\"], bins=50, kde=False)\n"
   ]
  },
  {
   "cell_type": "markdown",
   "metadata": {},
   "source": [
    "# **histogram**"
   ]
  },
  {
   "cell_type": "code",
   "execution_count": 58,
   "metadata": {},
   "outputs": [
    {
     "data": {
      "image/png": "[encoded data removed]",
      "text/plain": [
       "<Figure size 640x480 with 1 Axes>"
      ]
     },
     "metadata": {},
     "output_type": "display_data"
    }
   ],
   "source": [
    "def show_hist(column_name):\n",
    "    retail_df[column_name].hist()\n",
    "\n",
    "show_hist('UnitPrice')"
   ]
  },
  {
   "cell_type": "code",
   "execution_count": null,
   "metadata": {},
   "outputs": [],
   "source": [
    "\n",
    "columns = ['Quantity', 'UnitPrice', 'TotalPrice']\n",
    "plt.figure(figsize=(15, 10))\n",
    "\n",
    "for i, col in enumerate(columns):\n",
    "    # Histogram + KDE\n",
    "    plt.subplot(3, 3, i*3+1)\n",
    "    sns.histplot(retail_df[col], kde=True, color='skyblue')\n",
    "    plt.title(f\"{col} Histogram\")\n",
    "\n",
    "    # Boxplot\n",
    "    plt.subplot(3, 3, i*3+2)\n",
    "    sns.boxplot(x=retail_df[col], color='orange')\n",
    "    plt.title(f\"{col} Boxplot\")\n",
    "\n",
    "    # Violin plot\n",
    "    plt.subplot(3, 3, i*3+3)\n",
    "    sns.violinplot(x=retail_df[col], color='lightgreen')\n",
    "    plt.title(f\"{col} Violin Plot\")\n",
    "\n",
    "plt.tight_layout()\n",
    "plt.show()\n"
   ]
  }
 ],
 "metadata": {
  "colab": {
   "authorship_tag": "ABX9TyNj9Hr8YU/fJu2ER1ZEyfwp",
   "mount_file_id": "1uL4-VmSIUZtxjysvqKZyCnH5wfDX3H1q",
   "provenance": []
  },
  "kernelspec": {
   "display_name": "Python 3",
   "name": "python3"
  },
  "language_info": {
   "codemirror_mode": {
    "name": "ipython",
    "version": 3
   },
   "file_extension": ".py",
   "mimetype": "text/x-python",
   "name": "python",
   "nbconvert_exporter": "python",
   "pygments_lexer": "ipython3",
   "version": "3.13.1"
  }
 },
 "nbformat": 4,
 "nbformat_minor": 0
}
